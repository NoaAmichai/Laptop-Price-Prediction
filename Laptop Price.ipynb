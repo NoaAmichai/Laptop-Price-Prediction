{
 "cells": [
  {
   "cell_type": "code",
   "execution_count": 464,
   "id": "c3be6a1b",
   "metadata": {},
   "outputs": [],
   "source": [
    "import numpy as np\n",
    "import pandas as pd \n",
    "%matplotlib inline\n",
    "import matplotlib.pyplot as plt \n",
    "import seaborn as sns\n",
    "color = sns.color_palette()\n",
    "import plotly.express as px\n",
    "import matplotlib.pyplot as plt\n",
    "from sklearn.model_selection import train_test_split"
   ]
  },
  {
   "cell_type": "markdown",
   "id": "de6c87fd",
   "metadata": {},
   "source": [
    "In this project, We would like to predict laptop prices.<br>\n",
    "Our goal column is \"Price_euros\", which we want our model to predict."
   ]
  },
  {
   "cell_type": "code",
   "execution_count": 465,
   "id": "893596d9",
   "metadata": {
    "scrolled": false
   },
   "outputs": [
    {
     "data": {
      "text/html": [
       "<div>\n",
       "<style scoped>\n",
       "    .dataframe tbody tr th:only-of-type {\n",
       "        vertical-align: middle;\n",
       "    }\n",
       "\n",
       "    .dataframe tbody tr th {\n",
       "        vertical-align: top;\n",
       "    }\n",
       "\n",
       "    .dataframe thead th {\n",
       "        text-align: right;\n",
       "    }\n",
       "</style>\n",
       "<table border=\"1\" class=\"dataframe\">\n",
       "  <thead>\n",
       "    <tr style=\"text-align: right;\">\n",
       "      <th></th>\n",
       "      <th>laptop_ID</th>\n",
       "      <th>Company</th>\n",
       "      <th>Product</th>\n",
       "      <th>TypeName</th>\n",
       "      <th>Inches</th>\n",
       "      <th>ScreenResolution</th>\n",
       "      <th>Cpu</th>\n",
       "      <th>Ram</th>\n",
       "      <th>Memory</th>\n",
       "      <th>Gpu</th>\n",
       "      <th>OpSys</th>\n",
       "      <th>Weight</th>\n",
       "      <th>Price_euros</th>\n",
       "    </tr>\n",
       "  </thead>\n",
       "  <tbody>\n",
       "    <tr>\n",
       "      <th>0</th>\n",
       "      <td>1</td>\n",
       "      <td>Apple</td>\n",
       "      <td>MacBook Pro</td>\n",
       "      <td>Ultrabook</td>\n",
       "      <td>13.3</td>\n",
       "      <td>IPS Panel Retina Display 2560x1600</td>\n",
       "      <td>Intel Core i5 2.3GHz</td>\n",
       "      <td>8GB</td>\n",
       "      <td>128GB SSD</td>\n",
       "      <td>Intel Iris Plus Graphics 640</td>\n",
       "      <td>macOS</td>\n",
       "      <td>1.37kg</td>\n",
       "      <td>1339.69</td>\n",
       "    </tr>\n",
       "    <tr>\n",
       "      <th>1</th>\n",
       "      <td>2</td>\n",
       "      <td>Apple</td>\n",
       "      <td>Macbook Air</td>\n",
       "      <td>Ultrabook</td>\n",
       "      <td>13.3</td>\n",
       "      <td>1440x900</td>\n",
       "      <td>Intel Core i5 1.8GHz</td>\n",
       "      <td>8GB</td>\n",
       "      <td>128GB Flash Storage</td>\n",
       "      <td>Intel HD Graphics 6000</td>\n",
       "      <td>macOS</td>\n",
       "      <td>1.34kg</td>\n",
       "      <td>898.94</td>\n",
       "    </tr>\n",
       "    <tr>\n",
       "      <th>2</th>\n",
       "      <td>3</td>\n",
       "      <td>HP</td>\n",
       "      <td>250 G6</td>\n",
       "      <td>Notebook</td>\n",
       "      <td>15.6</td>\n",
       "      <td>Full HD 1920x1080</td>\n",
       "      <td>Intel Core i5 7200U 2.5GHz</td>\n",
       "      <td>8GB</td>\n",
       "      <td>256GB SSD</td>\n",
       "      <td>Intel HD Graphics 620</td>\n",
       "      <td>No OS</td>\n",
       "      <td>1.86kg</td>\n",
       "      <td>575.00</td>\n",
       "    </tr>\n",
       "  </tbody>\n",
       "</table>\n",
       "</div>"
      ],
      "text/plain": [
       "   laptop_ID Company      Product   TypeName  Inches  \\\n",
       "0          1   Apple  MacBook Pro  Ultrabook    13.3   \n",
       "1          2   Apple  Macbook Air  Ultrabook    13.3   \n",
       "2          3      HP       250 G6   Notebook    15.6   \n",
       "\n",
       "                     ScreenResolution                         Cpu  Ram  \\\n",
       "0  IPS Panel Retina Display 2560x1600        Intel Core i5 2.3GHz  8GB   \n",
       "1                            1440x900        Intel Core i5 1.8GHz  8GB   \n",
       "2                   Full HD 1920x1080  Intel Core i5 7200U 2.5GHz  8GB   \n",
       "\n",
       "                Memory                           Gpu  OpSys  Weight  \\\n",
       "0            128GB SSD  Intel Iris Plus Graphics 640  macOS  1.37kg   \n",
       "1  128GB Flash Storage        Intel HD Graphics 6000  macOS  1.34kg   \n",
       "2            256GB SSD         Intel HD Graphics 620  No OS  1.86kg   \n",
       "\n",
       "   Price_euros  \n",
       "0      1339.69  \n",
       "1       898.94  \n",
       "2       575.00  "
      ]
     },
     "execution_count": 465,
     "metadata": {},
     "output_type": "execute_result"
    }
   ],
   "source": [
    "df = pd.read_csv(\"laptop_price.csv\",  encoding='latin-1')\n",
    "df.head(3)"
   ]
  },
  {
   "cell_type": "markdown",
   "id": "aa073a79",
   "metadata": {},
   "source": [
    "#### Features's explanation: \n",
    "\n",
    "| Features | Company | Product | TypeName | Inches | ScreenResolution | Cpu | Ram | Memory | Gpu | OpSys | Weight | Price_euros |\n",
    "| --- | --- | --- | --- | --- | --- | --- | --- | --- | --- | --- | --- | --- |\n",
    "| Type | String | String | String | Numeric | String |String | String | String | String | String | String | Numeric |\n",
    "| Type | Laptop Manufacturer | Brand and Model | Notebook, Ultrabook, Gaming, etc. | Screen Size | ScreenResolution |Central Processing Unit | Laptop | Hard Disk | Graphics Processing Units | Operating System | Laptop Weight | Price (Euro) |\n"
   ]
  },
  {
   "cell_type": "code",
   "execution_count": 466,
   "id": "55f77ef7",
   "metadata": {
    "scrolled": true
   },
   "outputs": [
    {
     "name": "stdout",
     "output_type": "stream",
     "text": [
      "<class 'pandas.core.frame.DataFrame'>\n",
      "RangeIndex: 1303 entries, 0 to 1302\n",
      "Data columns (total 13 columns):\n",
      " #   Column            Non-Null Count  Dtype  \n",
      "---  ------            --------------  -----  \n",
      " 0   laptop_ID         1303 non-null   int64  \n",
      " 1   Company           1303 non-null   object \n",
      " 2   Product           1303 non-null   object \n",
      " 3   TypeName          1303 non-null   object \n",
      " 4   Inches            1303 non-null   float64\n",
      " 5   ScreenResolution  1303 non-null   object \n",
      " 6   Cpu               1303 non-null   object \n",
      " 7   Ram               1303 non-null   object \n",
      " 8   Memory            1303 non-null   object \n",
      " 9   Gpu               1303 non-null   object \n",
      " 10  OpSys             1303 non-null   object \n",
      " 11  Weight            1303 non-null   object \n",
      " 12  Price_euros       1303 non-null   float64\n",
      "dtypes: float64(2), int64(1), object(10)\n",
      "memory usage: 132.5+ KB\n"
     ]
    }
   ],
   "source": [
    "df.info()"
   ]
  },
  {
   "cell_type": "code",
   "execution_count": 467,
   "id": "e28177f7",
   "metadata": {},
   "outputs": [
    {
     "name": "stdout",
     "output_type": "stream",
     "text": [
      "laptop_ID have 1303 unique values.\n",
      "Company have 19 unique values.\n",
      "Product have 618 unique values.\n",
      "TypeName have 6 unique values.\n",
      "Inches have 18 unique values.\n",
      "ScreenResolution have 40 unique values.\n",
      "Cpu have 118 unique values.\n",
      "Ram have 9 unique values.\n",
      "Memory have 39 unique values.\n",
      "Gpu have 110 unique values.\n",
      "OpSys have 9 unique values.\n",
      "Weight have 179 unique values.\n",
      "Price_euros have 791 unique values.\n"
     ]
    }
   ],
   "source": [
    "for col in df.columns.to_list():\n",
    "    print (col ,\"have\", len(df[col].unique()), \"unique values.\")"
   ]
  },
  {
   "cell_type": "markdown",
   "id": "2b7a9815",
   "metadata": {},
   "source": [
    "We can see that most columns have a lot of different values.<br>\n",
    "We will try to see if there are any columns that are not needed and we can remove them before running the models."
   ]
  },
  {
   "cell_type": "code",
   "execution_count": 468,
   "id": "640787de",
   "metadata": {},
   "outputs": [],
   "source": [
    "# there is no need for the laptop_ID column\n",
    "df.drop(columns = 'laptop_ID',inplace = True)"
   ]
  },
  {
   "cell_type": "code",
   "execution_count": 469,
   "id": "817e3d48",
   "metadata": {},
   "outputs": [],
   "source": [
    "# in addition, in \"Product\" column, we have 618 unique values (out of 1302 values).We will remove this column.\n",
    "df.drop(columns = 'Product',inplace = True)"
   ]
  },
  {
   "cell_type": "code",
   "execution_count": 470,
   "id": "4bf0f767",
   "metadata": {},
   "outputs": [],
   "source": [
    "# removing 'kg' from the 'Weight' column\n",
    "df[\"Weight\"] = df[\"Weight\"].str.replace(\"kg\",\"\").astype(np.float32)"
   ]
  },
  {
   "cell_type": "markdown",
   "id": "4704a385",
   "metadata": {},
   "source": [
    "### Data Visualization:\n",
    "We will check the price depending on some features of the laptop."
   ]
  },
  {
   "cell_type": "markdown",
   "id": "ae4916d9",
   "metadata": {},
   "source": [
    "### Company: \n"
   ]
  },
  {
   "cell_type": "code",
   "execution_count": 471,
   "id": "9f5e09ab",
   "metadata": {},
   "outputs": [
    {
     "data": {
      "image/png": "[encoded data removed]",
      "text/plain": [
       "<Figure size 720x360 with 1 Axes>"
      ]
     },
     "metadata": {
      "needs_background": "light"
     },
     "output_type": "display_data"
    }
   ],
   "source": [
    "plt.figure(figsize=(10,5))\n",
    "sns.boxplot(x=\"Price_euros\", y=\"Company\", data=df[[\"Price_euros\",\"Company\"]],palette=\"Set3\")\n",
    "plt.xlabel(\"Price - €\", size=14)\n",
    "plt.ylabel(\"Company\", size=14)\n",
    "plt.show()"
   ]
  },
  {
   "cell_type": "markdown",
   "id": "6ccc547c",
   "metadata": {},
   "source": [
    "| Dell | Lenovo | HP | Asus | Acer | MSI | Toshiba | Apple | Samsung | Razer | Mediacom | Microsoft | Xiaomi | Vero | Chuwi | Google | Fujitsu | LG | Huawei |  \n",
    "| --- | --- | --- | --- | --- | --- | --- | --- | --- | --- | --- | --- | --- | --- | --- | --- | --- | --- | --- |\n",
    "| 297 | 297 | 274 | 158 | 103 | 54 | 48 | 21 | 9 | 7 | 7 | 6 | 4 | 4 | 3 | 3 | 3 | 3 | 2 |\n",
    "\n",
    "We have more than 1300 laptops, and there are 19 different companies.<br>\n",
    "There are companies with a large amount of devices (like Lenovo and Dell).<br>\n",
    "The company with the largest median is the Razer with a median of almost 3000 euros<br>\n",
    "(keep in mind that it has small sample, only of 7 devices).<br>\n",
    "It seems that the company that manufactures the device is a factor that can cause the price of the device to change,<br>\n",
    "but the amount of devices in each company is different and unbalanced so we will consider removing the column later."
   ]
  },
  {
   "cell_type": "markdown",
   "id": "42398e2c",
   "metadata": {},
   "source": [
    "#### RAM:"
   ]
  },
  {
   "cell_type": "code",
   "execution_count": 472,
   "id": "3604bbfc",
   "metadata": {},
   "outputs": [],
   "source": [
    "# removing 'GB' from the 'Ram' column\n",
    "df[\"Ram\"] = df[\"Ram\"].str.replace(\"GB\",\"\").astype(np.int32)"
   ]
  },
  {
   "cell_type": "code",
   "execution_count": 473,
   "id": "402d158c",
   "metadata": {
    "scrolled": true
   },
   "outputs": [
    {
     "data": {
      "image/png": "[encoded data removed]",
      "text/plain": [
       "<Figure size 720x360 with 1 Axes>"
      ]
     },
     "metadata": {
      "needs_background": "light"
     },
     "output_type": "display_data"
    }
   ],
   "source": [
    "plt.figure(figsize=(10,5))\n",
    "sns.boxplot(x=\"Ram\", y=\"Price_euros\", data=df[[\"Ram\",\"Price_euros\"]],palette=\"Set3\")\n",
    "plt.xlabel(\"Ram\", size=14)\n",
    "plt.ylabel(\"Price - €\", size=14)\n",
    "plt.show()"
   ]
  },
  {
   "cell_type": "markdown",
   "id": "012880ec",
   "metadata": {},
   "source": [
    "\n",
    "It can be clearly seen that the higher the RAM, the higher the price of the computer.<br>\n",
    "We will look at the correlation between the variables."
   ]
  },
  {
   "cell_type": "code",
   "execution_count": 474,
   "id": "a372790a",
   "metadata": {},
   "outputs": [
    {
     "data": {
      "text/plain": [
       "<AxesSubplot:>"
      ]
     },
     "execution_count": 474,
     "metadata": {},
     "output_type": "execute_result"
    },
    {
     "data": {
      "image/png": "[encoded data removed]",
      "text/plain": [
       "<Figure size 432x288 with 2 Axes>"
      ]
     },
     "metadata": {
      "needs_background": "light"
     },
     "output_type": "display_data"
    }
   ],
   "source": [
    "sns.heatmap(df[['Price_euros','Ram']].corr(), annot=True)"
   ]
  },
  {
   "cell_type": "markdown",
   "id": "f063b7b6",
   "metadata": {},
   "source": [
    "### OpSys:"
   ]
  },
  {
   "cell_type": "code",
   "execution_count": 475,
   "id": "5fbbd4a1",
   "metadata": {},
   "outputs": [
    {
     "data": {
      "text/plain": [
       "array(['MacOS', 'No OS', 'WindowsOS', 'OtherOS'], dtype=object)"
      ]
     },
     "execution_count": 475,
     "metadata": {},
     "output_type": "execute_result"
    }
   ],
   "source": [
    "# We will change 'OpSys' columns. We will change the categories of the column to \"WindowsOs\", \"MacOs\", \"OtherOs\" and \"No OS\"\n",
    "df['OpSys'] = df['OpSys'].map({\"macOS\":\"MacOS\", \"No OS\":\"No OS\",\"Windows 10\":\"WindowsOS\" , \"Mac OS X\":\"MacOS\",\"Linux\": \"OtherOS\",\n",
    "                               \"Android\":\"OtherOS\", \"Windows 10 S\":\"WindowsOS\",\"Chrome OS\":\"OtherOS\",\"Windows 7\":\"WindowsOS\"})\n",
    "df['OpSys'].unique()"
   ]
  },
  {
   "cell_type": "code",
   "execution_count": 476,
   "id": "1fbbea4f",
   "metadata": {
    "scrolled": true
   },
   "outputs": [
    {
     "data": {
      "text/html": [
       "<div>\n",
       "<style scoped>\n",
       "    .dataframe tbody tr th:only-of-type {\n",
       "        vertical-align: middle;\n",
       "    }\n",
       "\n",
       "    .dataframe tbody tr th {\n",
       "        vertical-align: top;\n",
       "    }\n",
       "\n",
       "    .dataframe thead th {\n",
       "        text-align: right;\n",
       "    }\n",
       "</style>\n",
       "<table border=\"1\" class=\"dataframe\">\n",
       "  <thead>\n",
       "    <tr style=\"text-align: right;\">\n",
       "      <th></th>\n",
       "      <th>Price_euros</th>\n",
       "    </tr>\n",
       "    <tr>\n",
       "      <th>OpSys</th>\n",
       "      <th></th>\n",
       "    </tr>\n",
       "  </thead>\n",
       "  <tbody>\n",
       "    <tr>\n",
       "      <th>MacOS</th>\n",
       "      <td>1564.198571</td>\n",
       "    </tr>\n",
       "    <tr>\n",
       "      <th>No OS</th>\n",
       "      <td>587.973333</td>\n",
       "    </tr>\n",
       "    <tr>\n",
       "      <th>OtherOS</th>\n",
       "      <td>594.209560</td>\n",
       "    </tr>\n",
       "    <tr>\n",
       "      <th>WindowsOS</th>\n",
       "      <td>1189.721484</td>\n",
       "    </tr>\n",
       "  </tbody>\n",
       "</table>\n",
       "</div>"
      ],
      "text/plain": [
       "           Price_euros\n",
       "OpSys                 \n",
       "MacOS      1564.198571\n",
       "No OS       587.973333\n",
       "OtherOS     594.209560\n",
       "WindowsOS  1189.721484"
      ]
     },
     "execution_count": 476,
     "metadata": {},
     "output_type": "execute_result"
    }
   ],
   "source": [
    "df[[\"Price_euros\"]].groupby(by = df[\"OpSys\"]).mean()\n",
    "#We see that there is a difference in the average price relative to the OS type. We will consider this later. "
   ]
  },
  {
   "cell_type": "markdown",
   "id": "baad085d",
   "metadata": {},
   "source": [
    "### Cpu:\n",
    "In \"Cpu\" column there are a lot of different values. We will change them to more general values."
   ]
  },
  {
   "cell_type": "code",
   "execution_count": 477,
   "id": "988b9f79",
   "metadata": {},
   "outputs": [],
   "source": [
    "df['Cpu'] = df['Cpu'].replace(['Intel Core i7 7700HQ 2.8GHz', 'Intel Core i7 7500U 2.7GHz', 'Intel Core i7 8550U 1.8GHz', 'Intel Core i7 6920HQ 2.9GHz',\n",
    "                              'Intel Core i7 2.7GHz', 'Intel Core i7 6500U 2.5GHz', 'Intel Core i7 6700HQ 2.6GHz', 'Intel Core i7 6560U 2.2GHz',\n",
    "                              'Intel Core i7 2.9GHz', 'Intel Core i7 6600U 2.6GHz', 'Intel Core i7 7600U 2.8GHz', 'Intel Core i7 6820HK 2.7GHz',\n",
    "                              'Intel Core i7 7820HK 2.9GHz', 'Intel Core i7 6820HQ 2.7GHz', 'Intel Core i7 7Y75 1.3GHz', 'Intel Core i7 7820HQ 2.9GHz',\n",
    "                              'Intel Core i7 7660U 2.5GHz', 'Intel Core i7 6500U 2.50GHz', 'Intel Core i7 7500U 2.5GHz', 'Intel Core i7 2.2GHz', 'Intel Core i7 2.8GHz',\n",
    "                              'Intel Core i7 7560U 2.4GHz', 'Intel Core i7 8650U 1.9GHz', 'Intel Core i7 7700HQ 2.7GHz'], 'Intel Core i7')\n",
    "df['Cpu'] = df['Cpu'].replace(['Intel Core i5 7200U 2.5GHz', 'Intel Core i5 8250U 1.6GHz', 'Intel Core i5 7200U 2.50GHz', 'Intel Core i5 2.9GHz', 'Intel Core i5 7300U 2.6GHz',\n",
    "                              'Intel Core i5 6440HQ 2.6GHz', 'Intel Core i5 6200U 2.3GHz', 'Intel Core i5 7300HQ 2.5GHz', 'Intel Core i5 2.0GHz', 'Intel Core i5 6300U 2.4GHz',\n",
    "                              'Intel Core i5 6300HQ 2.3GHz', 'Intel Core i5 7440HQ 2.8GHz', 'Intel Core i5 7Y54 1.2GHz', 'Intel Core i5 1.6GHz', 'Intel Core i5 1.8GHz',\n",
    "                              'Intel Core i5 3.1GHz', 'Intel Core i5 1.3GHz', 'Intel Core i5 7200U 2.7GHz', 'Intel Core i5 2.3GHz', 'Intel Core i5 7Y57 1.2GHz',\n",
    "                              'Intel Core i5 6260U 1.8GHz', 'Intel Core i5 7500U 2.7GHz', 'Intel Core i5 7200U 2.70GHz'], 'Intel Core i5')\n",
    "df['Cpu'] = df['Cpu'].replace(['Intel Core i3 6006U 2GHz', 'Intel Core i3 7100U 2.4GHz', 'Intel Core i3 6006U 2.0GHz', 'Intel Core i3 6100U 2.3GHz', 'Intel Core i3 7130U 2.7GHz',\n",
    "                              'Intel Core i3 6100U 2.1GHz', 'Intel Core i3 6006U 2.2GHz'], 'Intel Core i3')\n",
    "df['Cpu'] = df['Cpu'].replace(['Intel Pentium Dual Core 4405U 2.1GHz', 'Intel Core M m3-7Y30 2.2GHz', 'Intel Core M 7Y30 1.0GHz', 'Intel Core M 6Y54 1.1GHz',\n",
    "                              'Intel Pentium Dual Core N4200 1.1GHz', 'Intel Celeron Quad Core N3710 1.6GHz', 'Intel Core M M3-6Y30 0.9GHz', 'Intel Celeron Dual Core N3350 1.1GHz',\n",
    "                              'Intel Atom Z8350 1.92GHz', 'Intel Celeron Dual Core N3350 1.1GHz', 'Intel Celeron Dual Core N3060 1.6GHz', 'Intel Pentium Quad Core N4200 1.1GHz',\n",
    "                              'Intel Pentium Quad Core N3710 1.6GHz', 'Intel Celeron Dual Core N3050 1.6GHz', 'Intel Celeron Quad Core N3450 1.1GHz',\n",
    "                              'Intel Atom x5-Z8350 1.44GHz', 'Intel Core M 6Y75 1.2GHz', 'Intel Celeron Dual Core 3205U 1.5GHz', 'Intel Atom x5-Z8550 1.44GHz',\n",
    "                              'Intel Celeron Dual Core 3855U 1.6GHz', 'Intel Core M 6Y30 0.9GHz', 'Intel Xeon E3-1505M V6 3GHz', 'Intel Core M 1.2GHz',\n",
    "                              'Intel Pentium Quad Core N3700 1.6GHz', 'Intel Celeron Dual Core N3060 1.60GHz', 'Intel Core M m7-6Y75 1.2GHz', 'Intel Celeron Dual Core N3350 2.0GHz',\n",
    "                              'Intel Atom x5-Z8300 1.44GHz', 'Intel Core M m3 1.2GHz', 'Intel Xeon E3-1535M v5 2.9GHz', 'Intel Celeron Dual Core N3350 2GHz',\n",
    "                              'Intel Atom X5-Z8350 1.44GHz', 'Intel Core M M7-6Y75 1.2GHz', 'Intel Xeon E3-1535M v6 3.1GHz', 'Intel Pentium Dual Core 4405Y 1.5GHz',\n",
    "                              'Intel Core M 1.1GHz', 'Intel Celeron Quad Core N3160 1.6GHz'], 'Intel Other')\n",
    "df['Cpu'] = df['Cpu'].replace(['AMD E-Series 9000e 1.5GHz', 'AMD E-Series E2-6110 1.5GHz', 'AMD E-Series 9000 2.2GHz', 'AMD Ryzen 1600 3.2GHz', 'AMD A9-Series 9420 3GHz',\n",
    "                              'AMD A6-Series 9220 2.5GHz', 'AMD A12-Series 9720P 3.6GHz', 'AMD A8-Series 7410 2.2GHz', 'AMD A9-Series 9410 2.9GHz', 'AMD Ryzen 1700 3GHz',\n",
    "                              'AMD A12-Series 9700P 2.5GHz', 'AMD A4-Series 7210 2.2GHz', 'AMD FX 9830P 3GHz', 'AMD E-Series E2-9000 2.2GHz', 'AMD A6-Series 7310 2GHz',\n",
    "                              'AMD E-Series 6110 1.5GHz', 'AMD A9-Series A9-9420 3GHz', 'AMD A12-Series 9720P 2.7GHz', 'AMD E-Series 7110 1.8GHz', 'AMD FX 8800P 2.1GHz',\n",
    "                              'AMD A6-Series 9220 2.9GHz', 'AMD A9-Series 9420 2.9GHz', 'AMD A10-Series 9600P 2.4GHz', 'AMD E-Series E2-9000e 1.5GHz', 'AMD A10-Series A10-9620P 2.5GHz',\n",
    "                              'AMD A6-Series A6-9220 2.5GHz', 'AMD A10-Series 9620P 2.5GHz'], 'AMD')\n",
    "df['Cpu'] = df['Cpu'].replace(['Samsung Cortex A72&A53 2.0GHz'], 'Other')"
   ]
  },
  {
   "cell_type": "code",
   "execution_count": 478,
   "id": "9d66c7e0",
   "metadata": {
    "scrolled": true
   },
   "outputs": [
    {
     "data": {
      "text/html": [
       "<div>\n",
       "<style scoped>\n",
       "    .dataframe tbody tr th:only-of-type {\n",
       "        vertical-align: middle;\n",
       "    }\n",
       "\n",
       "    .dataframe tbody tr th {\n",
       "        vertical-align: top;\n",
       "    }\n",
       "\n",
       "    .dataframe thead th {\n",
       "        text-align: right;\n",
       "    }\n",
       "</style>\n",
       "<table border=\"1\" class=\"dataframe\">\n",
       "  <thead>\n",
       "    <tr style=\"text-align: right;\">\n",
       "      <th></th>\n",
       "      <th>Price_euros</th>\n",
       "    </tr>\n",
       "    <tr>\n",
       "      <th>Cpu</th>\n",
       "      <th></th>\n",
       "    </tr>\n",
       "  </thead>\n",
       "  <tbody>\n",
       "    <tr>\n",
       "      <th>AMD</th>\n",
       "      <td>560.638871</td>\n",
       "    </tr>\n",
       "    <tr>\n",
       "      <th>Intel Core i3</th>\n",
       "      <td>541.625956</td>\n",
       "    </tr>\n",
       "    <tr>\n",
       "      <th>Intel Core i5</th>\n",
       "      <td>1015.015248</td>\n",
       "    </tr>\n",
       "    <tr>\n",
       "      <th>Intel Core i7</th>\n",
       "      <td>1595.779108</td>\n",
       "    </tr>\n",
       "    <tr>\n",
       "      <th>Intel Other</th>\n",
       "      <td>550.372532</td>\n",
       "    </tr>\n",
       "    <tr>\n",
       "      <th>Other</th>\n",
       "      <td>659.000000</td>\n",
       "    </tr>\n",
       "  </tbody>\n",
       "</table>\n",
       "</div>"
      ],
      "text/plain": [
       "               Price_euros\n",
       "Cpu                       \n",
       "AMD             560.638871\n",
       "Intel Core i3   541.625956\n",
       "Intel Core i5  1015.015248\n",
       "Intel Core i7  1595.779108\n",
       "Intel Other     550.372532\n",
       "Other           659.000000"
      ]
     },
     "execution_count": 478,
     "metadata": {},
     "output_type": "execute_result"
    }
   ],
   "source": [
    "df[[\"Price_euros\"]].groupby(by = df[\"Cpu\"]).mean()\n",
    "#We see that there is a difference in the average price relative to the Cpu type. We will consider this later. "
   ]
  },
  {
   "cell_type": "markdown",
   "id": "c818001d",
   "metadata": {},
   "source": [
    "### Gpu:"
   ]
  },
  {
   "cell_type": "code",
   "execution_count": 479,
   "id": "5028046b",
   "metadata": {},
   "outputs": [],
   "source": [
    "#In \"Gpu\" column there are a lot of different values. We will split \"Gpu\" into two cloums \"Gpu_company\" and \"Gpu_type\".\n",
    "df['Gpu_company'] = df['Gpu'].apply(lambda x: x.split(' ')[0])\n",
    "df['Gpu_type'] = df['Gpu'].apply(lambda x: x.split(' ')[1])\n",
    "df = df.drop(columns=['Gpu'])"
   ]
  },
  {
   "cell_type": "markdown",
   "id": "ead80275",
   "metadata": {},
   "source": [
    "### Inches:"
   ]
  },
  {
   "cell_type": "code",
   "execution_count": 480,
   "id": "f620eee2",
   "metadata": {
    "scrolled": true
   },
   "outputs": [
    {
     "data": {
      "image/png": "[encoded data removed]",
      "text/plain": [
       "<Figure size 576x360 with 1 Axes>"
      ]
     },
     "metadata": {
      "needs_background": "light"
     },
     "output_type": "display_data"
    }
   ],
   "source": [
    "plt.figure(figsize=(8,5))\n",
    "sns.lineplot(x=\"Inches\", y=\"Price_euros\", data=df[[\"Inches\",\"Price_euros\"]],palette=\"Set3\")\n",
    "plt.xlabel(\"Inches\", size=14)\n",
    "plt.ylabel(\"Price - €\", size=14)\n",
    "plt.show()"
   ]
  },
  {
   "cell_type": "markdown",
   "id": "625f801b",
   "metadata": {},
   "source": [
    "From the graph it can be seen that there are inches (like 14, 17),<br>\n",
    "where the price of the device is significantly lower compared to the other inches."
   ]
  },
  {
   "cell_type": "markdown",
   "id": "4dad7168",
   "metadata": {},
   "source": [
    "### Memory:"
   ]
  },
  {
   "cell_type": "code",
   "execution_count": 481,
   "id": "53741aab",
   "metadata": {},
   "outputs": [],
   "source": [
    "df['Memory'] = df['Memory'].str.replace('Flash Storage','FlashStorage')\n",
    "df[\"Memory\"] = df['Memory'] .apply(lambda x: x.split(' ')[1]).astype('string')"
   ]
  },
  {
   "cell_type": "markdown",
   "id": "0d8d7911",
   "metadata": {},
   "source": [
    "### ScreenResolution:"
   ]
  },
  {
   "cell_type": "code",
   "execution_count": 482,
   "id": "22194623",
   "metadata": {},
   "outputs": [],
   "source": [
    "#יש לנו 40 ערכים שונים של רזולציה. ננזה בתור התחלה להשאיר ואתם כך, אם נראה שהמודל לא חוזה בצורה טובה ננסה לאחד אותם לקטגוריות יותר כלליות "
   ]
  },
  {
   "cell_type": "raw",
   "id": "44fe8f93",
   "metadata": {},
   "source": [
    "plt.figure(figsize=(8,5))\n",
    "sns.barplot(x=\"ScreenResolution\", y=\"Price_euros\", data=df[[\"ScreenResolution\",\"Price_euros\"]],palette=\"Set3\")\n",
    "plt.xticks(rotation=90)\n",
    "plt.xlabel(\"ScreenResolution\", size=14)\n",
    "plt.ylabel(\"Price - €\", size=14)\n",
    "plt.show()"
   ]
  },
  {
   "cell_type": "raw",
   "id": "624c0c81",
   "metadata": {},
   "source": [
    "df[\"ScreenResolution\"]=df[\"ScreenResolution\"].astype('string')\n",
    "df[\"ScreenResolution\"] = df[\"ScreenResolution\"].str.replace('4K', '', regex=True)\n",
    "df[\"ScreenResolution\"] = df[\"ScreenResolution\"].str.replace('\\D', '', regex=True)\n",
    "def insert_dash(string, index):\n",
    "    return string[:index] + 'x' + string[index:]\n",
    "i = 0\n",
    "for i in range(0,len(df[\"ScreenResolution\"])):\n",
    "    df[\"ScreenResolution\"][i] = insert_dash(df[\"ScreenResolution\"][i],4)\n",
    "    i = i +1\n",
    "plt.figure(figsize=(5,5))\n",
    "sns.barplot(x=\"Price_euros\", y=\"ScreenResolution\", data=df[[\"Price_euros\",\"ScreenResolution\"]],palette=\"Set3\")\n",
    "plt.xlabel(\"Price - €\", size=14)\n",
    "plt.ylabel(\"Screen Resolution\", size=14)\n",
    "plt.show()"
   ]
  },
  {
   "cell_type": "code",
   "execution_count": 483,
   "id": "90d34d7a",
   "metadata": {},
   "outputs": [
    {
     "data": {
      "text/plain": [
       "<AxesSubplot:>"
      ]
     },
     "execution_count": 483,
     "metadata": {},
     "output_type": "execute_result"
    },
    {
     "data": {
      "text/plain": [
       "<Figure size 576x360 with 0 Axes>"
      ]
     },
     "metadata": {},
     "output_type": "display_data"
    },
    {
     "data": {
      "image/png": "[encoded data removed]",
      "text/plain": [
       "<Figure size 720x576 with 2 Axes>"
      ]
     },
     "metadata": {
      "needs_background": "light"
     },
     "output_type": "display_data"
    }
   ],
   "source": [
    "plt.figure(figsize=(8,5))\n",
    "fig, ax = plt.subplots(figsize=(10,8))\n",
    "sns.heatmap(df.corr(), annot=True)"
   ]
  },
  {
   "cell_type": "code",
   "execution_count": 484,
   "id": "668763b4",
   "metadata": {},
   "outputs": [],
   "source": [
    "df['Cpu'] = df['Cpu'].map({'Intel Core i7':5, 'Intel Core i5':4, 'Other':3,'AMD':2,'Intel Other':1,'Intel Core i3':0})\n",
    "df['Ram'] = df['Ram'].map({64:8, 32:7, 24:6, 16:5, 12:4, 8:3, 6:2 ,4:1,2:0})\n",
    "df['OpSys'] = df['OpSys'].map({'MacOS':3, 'WindowsOS':2, 'OtherOS':1, 'No OS':0})\n",
    "df['Gpu_type'] = df['Gpu_type'].map({'GTX':11, 'Quadro':10, 'Iris':9, 'FirePro':8, 'GeForce':7, 'UHD':6, 'HD':5,\n",
    "                                     'Graphics':4,'R17M-M1-70':3,'Radeon':2,'Mali':1,'R4':0})"
   ]
  },
  {
   "cell_type": "code",
   "execution_count": 487,
   "id": "8bb16b17",
   "metadata": {
    "scrolled": false
   },
   "outputs": [
    {
     "data": {
      "text/html": [
       "<div>\n",
       "<style scoped>\n",
       "    .dataframe tbody tr th:only-of-type {\n",
       "        vertical-align: middle;\n",
       "    }\n",
       "\n",
       "    .dataframe tbody tr th {\n",
       "        vertical-align: top;\n",
       "    }\n",
       "\n",
       "    .dataframe thead th {\n",
       "        text-align: right;\n",
       "    }\n",
       "</style>\n",
       "<table border=\"1\" class=\"dataframe\">\n",
       "  <thead>\n",
       "    <tr style=\"text-align: right;\">\n",
       "      <th></th>\n",
       "      <th>Inches</th>\n",
       "      <th>Cpu</th>\n",
       "      <th>Ram</th>\n",
       "      <th>OpSys</th>\n",
       "      <th>Weight</th>\n",
       "      <th>Price_euros</th>\n",
       "      <th>Gpu_type</th>\n",
       "      <th>Company_Acer</th>\n",
       "      <th>Company_Apple</th>\n",
       "      <th>Company_Asus</th>\n",
       "      <th>...</th>\n",
       "      <th>ScreenResolution_Touchscreen 2400x1600</th>\n",
       "      <th>ScreenResolution_Touchscreen 2560x1440</th>\n",
       "      <th>Memory_FlashStorage</th>\n",
       "      <th>Memory_HDD</th>\n",
       "      <th>Memory_Hybrid</th>\n",
       "      <th>Memory_SSD</th>\n",
       "      <th>Gpu_company_AMD</th>\n",
       "      <th>Gpu_company_ARM</th>\n",
       "      <th>Gpu_company_Intel</th>\n",
       "      <th>Gpu_company_Nvidia</th>\n",
       "    </tr>\n",
       "  </thead>\n",
       "  <tbody>\n",
       "    <tr>\n",
       "      <th>0</th>\n",
       "      <td>13.3</td>\n",
       "      <td>4</td>\n",
       "      <td>3</td>\n",
       "      <td>3</td>\n",
       "      <td>1.37</td>\n",
       "      <td>1339.69</td>\n",
       "      <td>9</td>\n",
       "      <td>0</td>\n",
       "      <td>1</td>\n",
       "      <td>0</td>\n",
       "      <td>...</td>\n",
       "      <td>0</td>\n",
       "      <td>0</td>\n",
       "      <td>0</td>\n",
       "      <td>0</td>\n",
       "      <td>0</td>\n",
       "      <td>1</td>\n",
       "      <td>0</td>\n",
       "      <td>0</td>\n",
       "      <td>1</td>\n",
       "      <td>0</td>\n",
       "    </tr>\n",
       "    <tr>\n",
       "      <th>1</th>\n",
       "      <td>13.3</td>\n",
       "      <td>4</td>\n",
       "      <td>3</td>\n",
       "      <td>3</td>\n",
       "      <td>1.34</td>\n",
       "      <td>898.94</td>\n",
       "      <td>5</td>\n",
       "      <td>0</td>\n",
       "      <td>1</td>\n",
       "      <td>0</td>\n",
       "      <td>...</td>\n",
       "      <td>0</td>\n",
       "      <td>0</td>\n",
       "      <td>1</td>\n",
       "      <td>0</td>\n",
       "      <td>0</td>\n",
       "      <td>0</td>\n",
       "      <td>0</td>\n",
       "      <td>0</td>\n",
       "      <td>1</td>\n",
       "      <td>0</td>\n",
       "    </tr>\n",
       "    <tr>\n",
       "      <th>2</th>\n",
       "      <td>15.6</td>\n",
       "      <td>4</td>\n",
       "      <td>3</td>\n",
       "      <td>0</td>\n",
       "      <td>1.86</td>\n",
       "      <td>575.00</td>\n",
       "      <td>5</td>\n",
       "      <td>0</td>\n",
       "      <td>0</td>\n",
       "      <td>0</td>\n",
       "      <td>...</td>\n",
       "      <td>0</td>\n",
       "      <td>0</td>\n",
       "      <td>0</td>\n",
       "      <td>0</td>\n",
       "      <td>0</td>\n",
       "      <td>1</td>\n",
       "      <td>0</td>\n",
       "      <td>0</td>\n",
       "      <td>1</td>\n",
       "      <td>0</td>\n",
       "    </tr>\n",
       "  </tbody>\n",
       "</table>\n",
       "<p>3 rows × 80 columns</p>\n",
       "</div>"
      ],
      "text/plain": [
       "   Inches  Cpu  Ram  OpSys  Weight  Price_euros  Gpu_type  Company_Acer  \\\n",
       "0    13.3    4    3      3    1.37      1339.69         9             0   \n",
       "1    13.3    4    3      3    1.34       898.94         5             0   \n",
       "2    15.6    4    3      0    1.86       575.00         5             0   \n",
       "\n",
       "   Company_Apple  Company_Asus  ...  ScreenResolution_Touchscreen 2400x1600  \\\n",
       "0              1             0  ...                                       0   \n",
       "1              1             0  ...                                       0   \n",
       "2              0             0  ...                                       0   \n",
       "\n",
       "   ScreenResolution_Touchscreen 2560x1440  Memory_FlashStorage  Memory_HDD  \\\n",
       "0                                       0                    0           0   \n",
       "1                                       0                    1           0   \n",
       "2                                       0                    0           0   \n",
       "\n",
       "   Memory_Hybrid  Memory_SSD  Gpu_company_AMD  Gpu_company_ARM  \\\n",
       "0              0           1                0                0   \n",
       "1              0           0                0                0   \n",
       "2              0           1                0                0   \n",
       "\n",
       "   Gpu_company_Intel  Gpu_company_Nvidia  \n",
       "0                  1                   0  \n",
       "1                  1                   0  \n",
       "2                  1                   0  \n",
       "\n",
       "[3 rows x 80 columns]"
      ]
     },
     "execution_count": 487,
     "metadata": {},
     "output_type": "execute_result"
    }
   ],
   "source": [
    "data = df.copy(deep=True)\n",
    "data = pd.get_dummies(df, columns=['Company','TypeName','ScreenResolution','Memory','Gpu_company'])"
   ]
  },
  {
   "cell_type": "raw",
   "id": "8d904035",
   "metadata": {},
   "source": [
    "cor_df = data.copy(deep=True)\n",
    "for (index, col) in enumerate(cor_df):\n",
    "     if (data['Price_euros'].corr(data[col])) <0.3 and (data['Price_euros'].corr(df[col])) >- 0.3:\n",
    "         cor_df.drop(columns=col,inplace=True)\n",
    "fig, ax = plt.subplots(figsize=(10,8))\n",
    "sns.heatmap(cor_df.corr(), annot=True)\n",
    "plt.show()"
   ]
  },
  {
   "cell_type": "code",
   "execution_count": 445,
   "id": "bbbb6f66",
   "metadata": {},
   "outputs": [
    {
     "data": {
      "text/plain": [
       "<StringArray>\n",
       "['SSD', 'FlashStorage', 'HDD', 'Hybrid']\n",
       "Length: 4, dtype: string"
      ]
     },
     "execution_count": 445,
     "metadata": {},
     "output_type": "execute_result"
    }
   ],
   "source": [
    "df['Memory'].unique()"
   ]
  },
  {
   "cell_type": "code",
   "execution_count": 450,
   "id": "6dd3de56",
   "metadata": {},
   "outputs": [
    {
     "data": {
      "text/plain": [
       "array(['Intel', 'AMD', 'Nvidia', 'ARM'], dtype=object)"
      ]
     },
     "execution_count": 450,
     "metadata": {},
     "output_type": "execute_result"
    }
   ],
   "source": [
    "df['Gpu_company'].unique()"
   ]
  },
  {
   "cell_type": "code",
   "execution_count": 457,
   "id": "4cdecc2e",
   "metadata": {},
   "outputs": [
    {
     "data": {
      "text/html": [
       "<div>\n",
       "<style scoped>\n",
       "    .dataframe tbody tr th:only-of-type {\n",
       "        vertical-align: middle;\n",
       "    }\n",
       "\n",
       "    .dataframe tbody tr th {\n",
       "        vertical-align: top;\n",
       "    }\n",
       "\n",
       "    .dataframe thead th {\n",
       "        text-align: right;\n",
       "    }\n",
       "</style>\n",
       "<table border=\"1\" class=\"dataframe\">\n",
       "  <thead>\n",
       "    <tr style=\"text-align: right;\">\n",
       "      <th></th>\n",
       "      <th>Price_euros</th>\n",
       "    </tr>\n",
       "    <tr>\n",
       "      <th>Gpu_type</th>\n",
       "      <th></th>\n",
       "    </tr>\n",
       "  </thead>\n",
       "  <tbody>\n",
       "    <tr>\n",
       "      <th>FirePro</th>\n",
       "      <td>1637.200000</td>\n",
       "    </tr>\n",
       "    <tr>\n",
       "      <th>GTX</th>\n",
       "      <td>2799.000000</td>\n",
       "    </tr>\n",
       "    <tr>\n",
       "      <th>GeForce</th>\n",
       "      <td>1404.719864</td>\n",
       "    </tr>\n",
       "    <tr>\n",
       "      <th>Graphics</th>\n",
       "      <td>919.000000</td>\n",
       "    </tr>\n",
       "    <tr>\n",
       "      <th>HD</th>\n",
       "      <td>969.882739</td>\n",
       "    </tr>\n",
       "    <tr>\n",
       "      <th>Iris</th>\n",
       "      <td>1805.182857</td>\n",
       "    </tr>\n",
       "    <tr>\n",
       "      <th>Mali</th>\n",
       "      <td>659.000000</td>\n",
       "    </tr>\n",
       "    <tr>\n",
       "      <th>Quadro</th>\n",
       "      <td>2458.509355</td>\n",
       "    </tr>\n",
       "    <tr>\n",
       "      <th>R17M-M1-70</th>\n",
       "      <td>813.000000</td>\n",
       "    </tr>\n",
       "    <tr>\n",
       "      <th>R4</th>\n",
       "      <td>399.000000</td>\n",
       "    </tr>\n",
       "    <tr>\n",
       "      <th>Radeon</th>\n",
       "      <td>752.708555</td>\n",
       "    </tr>\n",
       "    <tr>\n",
       "      <th>UHD</th>\n",
       "      <td>1205.768235</td>\n",
       "    </tr>\n",
       "  </tbody>\n",
       "</table>\n",
       "</div>"
      ],
      "text/plain": [
       "            Price_euros\n",
       "Gpu_type               \n",
       "FirePro     1637.200000\n",
       "GTX         2799.000000\n",
       "GeForce     1404.719864\n",
       "Graphics     919.000000\n",
       "HD           969.882739\n",
       "Iris        1805.182857\n",
       "Mali         659.000000\n",
       "Quadro      2458.509355\n",
       "R17M-M1-70   813.000000\n",
       "R4           399.000000\n",
       "Radeon       752.708555\n",
       "UHD         1205.768235"
      ]
     },
     "execution_count": 457,
     "metadata": {},
     "output_type": "execute_result"
    }
   ],
   "source": [
    "df[[\"Price_euros\"]].groupby(by = df[\"Gpu_type\"]).mean()\n"
   ]
  },
  {
   "cell_type": "code",
   "execution_count": null,
   "id": "efd452fe",
   "metadata": {},
   "outputs": [],
   "source": []
  },
  {
   "cell_type": "code",
   "execution_count": null,
   "id": "e1cfc5d8",
   "metadata": {},
   "outputs": [],
   "source": []
  },
  {
   "cell_type": "code",
   "execution_count": null,
   "id": "c7003c1d",
   "metadata": {
    "scrolled": true
   },
   "outputs": [],
   "source": []
  },
  {
   "cell_type": "code",
   "execution_count": null,
   "id": "a4808e70",
   "metadata": {},
   "outputs": [],
   "source": []
  }
 ],
 "metadata": {
  "kernelspec": {
   "display_name": "Python 3 (ipykernel)",
   "language": "python",
   "name": "python3"
  },
  "language_info": {
   "codemirror_mode": {
    "name": "ipython",
    "version": 3
   },
   "file_extension": ".py",
   "mimetype": "text/x-python",
   "name": "python",
   "nbconvert_exporter": "python",
   "pygments_lexer": "ipython3",
   "version": "3.8.8"
  }
 },
 "nbformat": 4,
 "nbformat_minor": 5
}
